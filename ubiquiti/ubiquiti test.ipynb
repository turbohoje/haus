{
 "cells": [
  {
   "cell_type": "markdown",
   "id": "a4708d3e",
   "metadata": {},
   "source": [
    "# testing pulling client lists from ubiquiti controller"
   ]
  },
  {
   "cell_type": "code",
   "execution_count": 3,
   "id": "9d672f50",
   "metadata": {},
   "outputs": [
    {
     "name": "stdout",
     "output_type": "stream",
     "text": [
      "Requirement already satisfied: unificontrol in /opt/anaconda3/lib/python3.8/site-packages (0.2.9)\n",
      "Requirement already satisfied: requests in /opt/anaconda3/lib/python3.8/site-packages (from unificontrol) (2.25.1)\n",
      "Requirement already satisfied: chardet<5,>=3.0.2 in /opt/anaconda3/lib/python3.8/site-packages (from requests->unificontrol) (4.0.0)\n",
      "Requirement already satisfied: urllib3<1.27,>=1.21.1 in /opt/anaconda3/lib/python3.8/site-packages (from requests->unificontrol) (1.26.4)\n",
      "Requirement already satisfied: certifi>=2017.4.17 in /opt/anaconda3/lib/python3.8/site-packages (from requests->unificontrol) (2020.12.5)\n",
      "Requirement already satisfied: idna<3,>=2.5 in /opt/anaconda3/lib/python3.8/site-packages (from requests->unificontrol) (2.10)\n"
     ]
    }
   ],
   "source": [
    "!pip3 install unificontrol"
   ]
  },
  {
   "cell_type": "code",
   "execution_count": 113,
   "id": "e7ff21d1",
   "metadata": {},
   "outputs": [],
   "source": [
    "from configparser import ConfigParser\n",
    "from unificontrol import UnifiClient\n",
    "import json\n",
    "import time, datetime"
   ]
  },
  {
   "cell_type": "code",
   "execution_count": 8,
   "id": "e6ec8275",
   "metadata": {},
   "outputs": [],
   "source": [
    "cfg = ConfigParser()\n",
    "_ = cfg.read(\"ui_creds.txt\")"
   ]
  },
  {
   "cell_type": "code",
   "execution_count": 68,
   "id": "edd2efe8",
   "metadata": {},
   "outputs": [],
   "source": [
    "client = UnifiClient(\n",
    "    host=\"10.22.14.2\", \n",
    "    username=cfg.get(\"creds\", \"user\"), \n",
    "    password=cfg.get(\"creds\", \"pass\"),\n",
    "    site='default')"
   ]
  },
  {
   "cell_type": "code",
   "execution_count": 151,
   "id": "98cb290c",
   "metadata": {},
   "outputs": [
    {
     "name": "stdout",
     "output_type": "stream",
     "text": [
      "wemo 724411\n",
      "ecobee-319279437236 49007\n",
      "GARAGE 724373\n",
      "MasterBedroomFa 70828\n",
      "android-f80125ddfeae0ad5 1364716\n",
      "viziocastdisplay 1334585\n",
      "viziocastdisplay 628201\n",
      "MBPJustinMeyer 25554\n",
      "DESKTOP-CL57RUE 1611\n",
      "a 2177\n",
      "justins-iPad 185\n",
      "a 2864\n",
      "amazon-9e823fb9a 1809728\n",
      "Roomba-69F4051C80916720 914761\n",
      "a 13731\n",
      "a 1766392\n",
      "Pixel-7 268\n",
      "SonosZP 906346\n",
      "MasterBedroomWa 70825\n",
      "OfficeLight 1938279\n",
      "MasterBathroomL 70838\n",
      "Google-Home-Mini 41932\n",
      "Chromecast 40553\n",
      "wemo 6127\n",
      "Google-Nest-Mini 40164\n",
      "Ring-8052d9 3586\n",
      "RokuPlayer 3465333\n",
      "catfeeder 0\n",
      "Rachio-292E20 0\n",
      "a 1720373\n",
      "a 3107870\n",
      "a 1938279\n",
      "Pixel-4a-5G 2825979\n",
      "a 2826177\n",
      "a 1716796\n"
     ]
    }
   ],
   "source": [
    "#devices = client.list_wlanconf()\n",
    "devices = client.list_users()\n",
    "\n",
    "t = int(time.time())\n",
    "\n",
    "for i in devices:\n",
    "    if i['is_wired'] == False: # and i['last_seen'] > t:\n",
    "        #print(json.dumps(i, indent=2))\n",
    "        #print(i[\"mac\"] + \" \" + str(datetime.datetime.fromtimestamp(i['last_seen'])) + \" \" + str(i.get('disconnect_timestamp', 'a')))\n",
    "        dt = i.get('disconnect_timestamp', t)\n",
    "        print(i.get('hostname', 'a') + \" \" + str((t-dt)))\n",
    "        "
   ]
  },
  {
   "cell_type": "code",
   "execution_count": null,
   "id": "882b91ae",
   "metadata": {},
   "outputs": [],
   "source": []
  }
 ],
 "metadata": {
  "kernelspec": {
   "display_name": "Python 3",
   "language": "python",
   "name": "python3"
  },
  "language_info": {
   "codemirror_mode": {
    "name": "ipython",
    "version": 3
   },
   "file_extension": ".py",
   "mimetype": "text/x-python",
   "name": "python",
   "nbconvert_exporter": "python",
   "pygments_lexer": "ipython3",
   "version": "3.8.8"
  }
 },
 "nbformat": 4,
 "nbformat_minor": 5
}
